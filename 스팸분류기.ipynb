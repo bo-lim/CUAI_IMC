{
 "cells": [
  {
   "cell_type": "code",
   "execution_count": 2,
   "metadata": {},
   "outputs": [],
   "source": [
    "import numpy as np\n",
    "import pandas as pd\n",
    "%matplotlib inline\n",
    "import matplotlib.pyplot as plt\n",
    "import seaborn as sns"
   ]
  },
  {
   "cell_type": "code",
   "execution_count": 3,
   "metadata": {},
   "outputs": [],
   "source": [
    "from sklearn.feature_extraction.text import CountVectorizer\n",
    "vect = CountVectorizer()"
   ]
  },
  {
   "cell_type": "code",
   "execution_count": 4,
   "metadata": {},
   "outputs": [],
   "source": [
    "path = './dataset'"
   ]
  },
  {
   "cell_type": "code",
   "execution_count": 5,
   "metadata": {},
   "outputs": [],
   "source": [
    "train_data = pd.read_csv(path + '/train.csv',encoding='latin-1')"
   ]
  },
  {
   "cell_type": "code",
   "execution_count": 6,
   "metadata": {},
   "outputs": [],
   "source": [
    "test_data = pd.read_csv(path + '/test.csv',encoding='latin-1')"
   ]
  },
  {
   "cell_type": "code",
   "execution_count": 7,
   "metadata": {},
   "outputs": [
    {
     "output_type": "execute_result",
     "data": {
      "text/plain": [
       "                  Message_body     Label\n",
       "count                      975       975\n",
       "unique                     961         2\n",
       "top     Sorry, I'll call later  Non-Spam\n",
       "freq                         4       812"
      ],
      "text/html": "<div>\n<style scoped>\n    .dataframe tbody tr th:only-of-type {\n        vertical-align: middle;\n    }\n\n    .dataframe tbody tr th {\n        vertical-align: top;\n    }\n\n    .dataframe thead th {\n        text-align: right;\n    }\n</style>\n<table border=\"1\" class=\"dataframe\">\n  <thead>\n    <tr style=\"text-align: right;\">\n      <th></th>\n      <th>Message_body</th>\n      <th>Label</th>\n    </tr>\n  </thead>\n  <tbody>\n    <tr>\n      <th>count</th>\n      <td>975</td>\n      <td>975</td>\n    </tr>\n    <tr>\n      <th>unique</th>\n      <td>961</td>\n      <td>2</td>\n    </tr>\n    <tr>\n      <th>top</th>\n      <td>Sorry, I'll call later</td>\n      <td>Non-Spam</td>\n    </tr>\n    <tr>\n      <th>freq</th>\n      <td>4</td>\n      <td>812</td>\n    </tr>\n  </tbody>\n</table>\n</div>"
     },
     "metadata": {},
     "execution_count": 7
    }
   ],
   "source": [
    "train_data.describe()"
   ]
  },
  {
   "cell_type": "code",
   "execution_count": 8,
   "metadata": {},
   "outputs": [
    {
     "output_type": "stream",
     "name": "stdout",
     "text": [
      "<class 'pandas.core.frame.DataFrame'>\nRangeIndex: 975 entries, 0 to 974\nData columns (total 2 columns):\n #   Column        Non-Null Count  Dtype \n---  ------        --------------  ----- \n 0   Message_body  975 non-null    object\n 1   Label         975 non-null    object\ndtypes: object(2)\nmemory usage: 15.4+ KB\n"
     ]
    }
   ],
   "source": [
    "train_data.info()"
   ]
  },
  {
   "cell_type": "code",
   "execution_count": 9,
   "metadata": {},
   "outputs": [],
   "source": [
    "train_data['Label'] = train_data['Label'].replace(['Non-Spam','Spam'],[0,1])"
   ]
  },
  {
   "cell_type": "code",
   "execution_count": 10,
   "metadata": {},
   "outputs": [],
   "source": [
    "train_data['length'] = train_data.Message_body.apply(len)\n",
    "test_data['length'] = test_data.Message_body.apply(len)"
   ]
  },
  {
   "cell_type": "code",
   "execution_count": 11,
   "metadata": {},
   "outputs": [
    {
     "output_type": "execute_result",
     "data": {
      "text/plain": [
       "                                        Message_body  Label  length\n",
       "0                         Rofl. Its true to its name      0      26\n",
       "1  The guy did some bitching but I acted like i'd...      0     125\n",
       "2  Pity, * was in mood for that. So...any other s...      0      57\n",
       "3                Will ?b going to esplanade fr home?      0      35\n",
       "4  This is the 2nd time we have tried 2 contact u...      1     159\n",
       "5  REMINDER FROM O2: To get 2.50 pounds free call...      1     147\n",
       "6                                       Huh y lei...      0      12\n",
       "7  Why don't you wait 'til at least wednesday to ...      0      67\n",
       "8                                Ard 6 like dat lor.      0      19\n",
       "9  Ok lor... Sony ericsson salesman... I ask shuh...      0      96"
      ],
      "text/html": "<div>\n<style scoped>\n    .dataframe tbody tr th:only-of-type {\n        vertical-align: middle;\n    }\n\n    .dataframe tbody tr th {\n        vertical-align: top;\n    }\n\n    .dataframe thead th {\n        text-align: right;\n    }\n</style>\n<table border=\"1\" class=\"dataframe\">\n  <thead>\n    <tr style=\"text-align: right;\">\n      <th></th>\n      <th>Message_body</th>\n      <th>Label</th>\n      <th>length</th>\n    </tr>\n  </thead>\n  <tbody>\n    <tr>\n      <th>0</th>\n      <td>Rofl. Its true to its name</td>\n      <td>0</td>\n      <td>26</td>\n    </tr>\n    <tr>\n      <th>1</th>\n      <td>The guy did some bitching but I acted like i'd...</td>\n      <td>0</td>\n      <td>125</td>\n    </tr>\n    <tr>\n      <th>2</th>\n      <td>Pity, * was in mood for that. So...any other s...</td>\n      <td>0</td>\n      <td>57</td>\n    </tr>\n    <tr>\n      <th>3</th>\n      <td>Will ?b going to esplanade fr home?</td>\n      <td>0</td>\n      <td>35</td>\n    </tr>\n    <tr>\n      <th>4</th>\n      <td>This is the 2nd time we have tried 2 contact u...</td>\n      <td>1</td>\n      <td>159</td>\n    </tr>\n    <tr>\n      <th>5</th>\n      <td>REMINDER FROM O2: To get 2.50 pounds free call...</td>\n      <td>1</td>\n      <td>147</td>\n    </tr>\n    <tr>\n      <th>6</th>\n      <td>Huh y lei...</td>\n      <td>0</td>\n      <td>12</td>\n    </tr>\n    <tr>\n      <th>7</th>\n      <td>Why don't you wait 'til at least wednesday to ...</td>\n      <td>0</td>\n      <td>67</td>\n    </tr>\n    <tr>\n      <th>8</th>\n      <td>Ard 6 like dat lor.</td>\n      <td>0</td>\n      <td>19</td>\n    </tr>\n    <tr>\n      <th>9</th>\n      <td>Ok lor... Sony ericsson salesman... I ask shuh...</td>\n      <td>0</td>\n      <td>96</td>\n    </tr>\n  </tbody>\n</table>\n</div>"
     },
     "metadata": {},
     "execution_count": 11
    }
   ],
   "source": [
    "train_data[:10]"
   ]
  },
  {
   "cell_type": "code",
   "execution_count": 12,
   "metadata": {},
   "outputs": [
    {
     "output_type": "display_data",
     "data": {
      "text/plain": "<Figure size 864x576 with 1 Axes>",
      "image/svg+xml": "<?xml version=\"1.0\" encoding=\"utf-8\" standalone=\"no\"?>\r\n<!DOCTYPE svg PUBLIC \"-//W3C//DTD SVG 1.1//EN\"\r\n  \"http://www.w3.org/Graphics/SVG/1.1/DTD/svg11.dtd\">\r\n<!-- Created with matplotlib (https://matplotlib.org/) -->\r\n<svg height=\"465.958125pt\" version=\"1.1\" viewBox=\"0 0 723.765625 465.958125\" width=\"723.765625pt\" xmlns=\"http://www.w3.org/2000/svg\" xmlns:xlink=\"http://www.w3.org/1999/xlink\">\r\n <metadata>\r\n  <rdf:RDF xmlns:cc=\"http://creativecommons.org/ns#\" xmlns:dc=\"http://purl.org/dc/elements/1.1/\" xmlns:rdf=\"http://www.w3.org/1999/02/22-rdf-syntax-ns#\">\r\n   <cc:Work>\r\n    <dc:type rdf:resource=\"http://purl.org/dc/dcmitype/StillImage\"/>\r\n    <dc:date>2021-05-27T01:14:34.569562</dc:date>\r\n    <dc:format>image/svg+xml</dc:format>\r\n    <dc:creator>\r\n     <cc:Agent>\r\n      <dc:title>Matplotlib v3.3.2, https://matplotlib.org/</dc:title>\r\n     </cc:Agent>\r\n    </dc:creator>\r\n   </cc:Work>\r\n  </rdf:RDF>\r\n </metadata>\r\n <defs>\r\n  <style type=\"text/css\">*{stroke-linecap:butt;stroke-linejoin:round;}</style>\r\n </defs>\r\n <g id=\"figure_1\">\r\n  <g id=\"patch_1\">\r\n   <path d=\"M 0 465.958125 \r\nL 723.765625 465.958125 \r\nL 723.765625 0 \r\nL 0 0 \r\nz\r\n\" style=\"fill:none;\"/>\r\n  </g>\r\n  <g id=\"axes_1\">\r\n   <g id=\"patch_2\">\r\n    <path d=\"M 46.965625 442.08 \r\nL 716.565625 442.08 \r\nL 716.565625 7.2 \r\nL 46.965625 7.2 \r\nz\r\n\" style=\"fill:#ffffff;\"/>\r\n   </g>\r\n   <g id=\"patch_3\">\r\n    <path clip-path=\"url(#p9ea5193758)\" d=\"M 77.401989 442.08 \r\nL 138.274716 442.08 \r\nL 138.274716 27.908571 \r\nL 77.401989 27.908571 \r\nz\r\n\" style=\"fill:#0000ff;\"/>\r\n   </g>\r\n   <g id=\"patch_4\">\r\n    <path clip-path=\"url(#p9ea5193758)\" d=\"M 138.274716 442.08 \r\nL 199.147443 442.08 \r\nL 199.147443 162.570867 \r\nL 138.274716 162.570867 \r\nz\r\n\" style=\"fill:#0000ff;\"/>\r\n   </g>\r\n   <g id=\"patch_5\">\r\n    <path clip-path=\"url(#p9ea5193758)\" d=\"M 199.147443 442.08 \r\nL 260.02017 442.08 \r\nL 260.02017 315.339016 \r\nL 199.147443 315.339016 \r\nz\r\n\" style=\"fill:#0000ff;\"/>\r\n   </g>\r\n   <g id=\"patch_6\">\r\n    <path clip-path=\"url(#p9ea5193758)\" d=\"M 260.02017 442.08 \r\nL 320.892898 442.08 \r\nL 320.892898 369.656581 \r\nL 260.02017 369.656581 \r\nz\r\n\" style=\"fill:#0000ff;\"/>\r\n   </g>\r\n   <g id=\"patch_7\">\r\n    <path clip-path=\"url(#p9ea5193758)\" d=\"M 320.892898 442.08 \r\nL 381.765625 442.08 \r\nL 381.765625 436.42192 \r\nL 320.892898 436.42192 \r\nz\r\n\" style=\"fill:#0000ff;\"/>\r\n   </g>\r\n   <g id=\"patch_8\">\r\n    <path clip-path=\"url(#p9ea5193758)\" d=\"M 381.765625 442.08 \r\nL 442.638352 442.08 \r\nL 442.638352 433.027073 \r\nL 381.765625 433.027073 \r\nz\r\n\" style=\"fill:#0000ff;\"/>\r\n   </g>\r\n   <g id=\"patch_9\">\r\n    <path clip-path=\"url(#p9ea5193758)\" d=\"M 442.638352 442.08 \r\nL 503.51108 442.08 \r\nL 503.51108 437.553536 \r\nL 442.638352 437.553536 \r\nz\r\n\" style=\"fill:#0000ff;\"/>\r\n   </g>\r\n   <g id=\"patch_10\">\r\n    <path clip-path=\"url(#p9ea5193758)\" d=\"M 503.51108 442.08 \r\nL 564.383807 442.08 \r\nL 564.383807 437.553536 \r\nL 503.51108 437.553536 \r\nz\r\n\" style=\"fill:#0000ff;\"/>\r\n   </g>\r\n   <g id=\"patch_11\">\r\n    <path clip-path=\"url(#p9ea5193758)\" d=\"M 564.383807 442.08 \r\nL 625.256534 442.08 \r\nL 625.256534 442.08 \r\nL 564.383807 442.08 \r\nz\r\n\" style=\"fill:#0000ff;\"/>\r\n   </g>\r\n   <g id=\"patch_12\">\r\n    <path clip-path=\"url(#p9ea5193758)\" d=\"M 625.256534 442.08 \r\nL 686.129261 442.08 \r\nL 686.129261 439.816768 \r\nL 625.256534 439.816768 \r\nz\r\n\" style=\"fill:#0000ff;\"/>\r\n   </g>\r\n   <g id=\"patch_13\">\r\n    <path clip-path=\"url(#p9ea5193758)\" d=\"M 132.242283 442.08 \r\nL 151.299286 442.08 \r\nL 151.299286 437.553536 \r\nL 132.242283 437.553536 \r\nz\r\n\" style=\"fill:#ff0000;\"/>\r\n   </g>\r\n   <g id=\"patch_14\">\r\n    <path clip-path=\"url(#p9ea5193758)\" d=\"M 151.299286 442.08 \r\nL 170.356288 442.08 \r\nL 170.356288 440.948384 \r\nL 151.299286 440.948384 \r\nz\r\n\" style=\"fill:#ff0000;\"/>\r\n   </g>\r\n   <g id=\"patch_15\">\r\n    <path clip-path=\"url(#p9ea5193758)\" d=\"M 170.356288 442.08 \r\nL 189.413291 442.08 \r\nL 189.413291 438.685152 \r\nL 170.356288 438.685152 \r\nz\r\n\" style=\"fill:#ff0000;\"/>\r\n   </g>\r\n   <g id=\"patch_16\">\r\n    <path clip-path=\"url(#p9ea5193758)\" d=\"M 189.413291 442.08 \r\nL 208.470293 442.08 \r\nL 208.470293 437.553536 \r\nL 189.413291 437.553536 \r\nz\r\n\" style=\"fill:#ff0000;\"/>\r\n   </g>\r\n   <g id=\"patch_17\">\r\n    <path clip-path=\"url(#p9ea5193758)\" d=\"M 208.470293 442.08 \r\nL 227.527296 442.08 \r\nL 227.527296 435.290304 \r\nL 208.470293 435.290304 \r\nz\r\n\" style=\"fill:#ff0000;\"/>\r\n   </g>\r\n   <g id=\"patch_18\">\r\n    <path clip-path=\"url(#p9ea5193758)\" d=\"M 227.527296 442.08 \r\nL 246.584298 442.08 \r\nL 246.584298 434.158689 \r\nL 227.527296 434.158689 \r\nz\r\n\" style=\"fill:#ff0000;\"/>\r\n   </g>\r\n   <g id=\"patch_19\">\r\n    <path clip-path=\"url(#p9ea5193758)\" d=\"M 246.584298 442.08 \r\nL 265.641301 442.08 \r\nL 265.641301 409.263138 \r\nL 246.584298 409.263138 \r\nz\r\n\" style=\"fill:#ff0000;\"/>\r\n   </g>\r\n   <g id=\"patch_20\">\r\n    <path clip-path=\"url(#p9ea5193758)\" d=\"M 265.641301 442.08 \r\nL 284.698303 442.08 \r\nL 284.698303 387.762436 \r\nL 265.641301 387.762436 \r\nz\r\n\" style=\"fill:#ff0000;\"/>\r\n   </g>\r\n   <g id=\"patch_21\">\r\n    <path clip-path=\"url(#p9ea5193758)\" d=\"M 284.698303 442.08 \r\nL 303.755306 442.08 \r\nL 303.755306 376.446276 \r\nL 284.698303 376.446276 \r\nz\r\n\" style=\"fill:#ff0000;\"/>\r\n   </g>\r\n   <g id=\"patch_22\">\r\n    <path clip-path=\"url(#p9ea5193758)\" d=\"M 303.755306 442.08 \r\nL 322.812308 442.08 \r\nL 322.812308 438.685152 \r\nL 303.755306 438.685152 \r\nz\r\n\" style=\"fill:#ff0000;\"/>\r\n   </g>\r\n   <g id=\"matplotlib.axis_1\">\r\n    <g id=\"xtick_1\">\r\n     <g id=\"line2d_1\">\r\n      <defs>\r\n       <path d=\"M 0 0 \r\nL 0 3.5 \r\n\" id=\"ma21bf52500\" style=\"stroke:#000000;stroke-width:0.8;\"/>\r\n      </defs>\r\n      <g>\r\n       <use style=\"stroke:#000000;stroke-width:0.8;\" x=\"74.659974\" xlink:href=\"#ma21bf52500\" y=\"442.08\"/>\r\n      </g>\r\n     </g>\r\n     <g id=\"text_1\">\r\n      <!-- 0 -->\r\n      <g transform=\"translate(71.478724 456.678437)scale(0.1 -0.1)\">\r\n       <defs>\r\n        <path d=\"M 31.78125 66.40625 \r\nQ 24.171875 66.40625 20.328125 58.90625 \r\nQ 16.5 51.421875 16.5 36.375 \r\nQ 16.5 21.390625 20.328125 13.890625 \r\nQ 24.171875 6.390625 31.78125 6.390625 \r\nQ 39.453125 6.390625 43.28125 13.890625 \r\nQ 47.125 21.390625 47.125 36.375 \r\nQ 47.125 51.421875 43.28125 58.90625 \r\nQ 39.453125 66.40625 31.78125 66.40625 \r\nz\r\nM 31.78125 74.21875 \r\nQ 44.046875 74.21875 50.515625 64.515625 \r\nQ 56.984375 54.828125 56.984375 36.375 \r\nQ 56.984375 17.96875 50.515625 8.265625 \r\nQ 44.046875 -1.421875 31.78125 -1.421875 \r\nQ 19.53125 -1.421875 13.0625 8.265625 \r\nQ 6.59375 17.96875 6.59375 36.375 \r\nQ 6.59375 54.828125 13.0625 64.515625 \r\nQ 19.53125 74.21875 31.78125 74.21875 \r\nz\r\n\" id=\"DejaVuSans-48\"/>\r\n       </defs>\r\n       <use xlink:href=\"#DejaVuSans-48\"/>\r\n      </g>\r\n     </g>\r\n    </g>\r\n    <g id=\"xtick_2\">\r\n     <g id=\"line2d_2\">\r\n      <g>\r\n       <use style=\"stroke:#000000;stroke-width:0.8;\" x=\"211.760711\" xlink:href=\"#ma21bf52500\" y=\"442.08\"/>\r\n      </g>\r\n     </g>\r\n     <g id=\"text_2\">\r\n      <!-- 100 -->\r\n      <g transform=\"translate(202.216961 456.678437)scale(0.1 -0.1)\">\r\n       <defs>\r\n        <path d=\"M 12.40625 8.296875 \r\nL 28.515625 8.296875 \r\nL 28.515625 63.921875 \r\nL 10.984375 60.40625 \r\nL 10.984375 69.390625 \r\nL 28.421875 72.90625 \r\nL 38.28125 72.90625 \r\nL 38.28125 8.296875 \r\nL 54.390625 8.296875 \r\nL 54.390625 0 \r\nL 12.40625 0 \r\nz\r\n\" id=\"DejaVuSans-49\"/>\r\n       </defs>\r\n       <use xlink:href=\"#DejaVuSans-49\"/>\r\n       <use x=\"63.623047\" xlink:href=\"#DejaVuSans-48\"/>\r\n       <use x=\"127.246094\" xlink:href=\"#DejaVuSans-48\"/>\r\n      </g>\r\n     </g>\r\n    </g>\r\n    <g id=\"xtick_3\">\r\n     <g id=\"line2d_3\">\r\n      <g>\r\n       <use style=\"stroke:#000000;stroke-width:0.8;\" x=\"348.861448\" xlink:href=\"#ma21bf52500\" y=\"442.08\"/>\r\n      </g>\r\n     </g>\r\n     <g id=\"text_3\">\r\n      <!-- 200 -->\r\n      <g transform=\"translate(339.317698 456.678437)scale(0.1 -0.1)\">\r\n       <defs>\r\n        <path d=\"M 19.1875 8.296875 \r\nL 53.609375 8.296875 \r\nL 53.609375 0 \r\nL 7.328125 0 \r\nL 7.328125 8.296875 \r\nQ 12.9375 14.109375 22.625 23.890625 \r\nQ 32.328125 33.6875 34.8125 36.53125 \r\nQ 39.546875 41.84375 41.421875 45.53125 \r\nQ 43.3125 49.21875 43.3125 52.78125 \r\nQ 43.3125 58.59375 39.234375 62.25 \r\nQ 35.15625 65.921875 28.609375 65.921875 \r\nQ 23.96875 65.921875 18.8125 64.3125 \r\nQ 13.671875 62.703125 7.8125 59.421875 \r\nL 7.8125 69.390625 \r\nQ 13.765625 71.78125 18.9375 73 \r\nQ 24.125 74.21875 28.421875 74.21875 \r\nQ 39.75 74.21875 46.484375 68.546875 \r\nQ 53.21875 62.890625 53.21875 53.421875 \r\nQ 53.21875 48.921875 51.53125 44.890625 \r\nQ 49.859375 40.875 45.40625 35.40625 \r\nQ 44.1875 33.984375 37.640625 27.21875 \r\nQ 31.109375 20.453125 19.1875 8.296875 \r\nz\r\n\" id=\"DejaVuSans-50\"/>\r\n       </defs>\r\n       <use xlink:href=\"#DejaVuSans-50\"/>\r\n       <use x=\"63.623047\" xlink:href=\"#DejaVuSans-48\"/>\r\n       <use x=\"127.246094\" xlink:href=\"#DejaVuSans-48\"/>\r\n      </g>\r\n     </g>\r\n    </g>\r\n    <g id=\"xtick_4\">\r\n     <g id=\"line2d_4\">\r\n      <g>\r\n       <use style=\"stroke:#000000;stroke-width:0.8;\" x=\"485.962185\" xlink:href=\"#ma21bf52500\" y=\"442.08\"/>\r\n      </g>\r\n     </g>\r\n     <g id=\"text_4\">\r\n      <!-- 300 -->\r\n      <g transform=\"translate(476.418435 456.678437)scale(0.1 -0.1)\">\r\n       <defs>\r\n        <path d=\"M 40.578125 39.3125 \r\nQ 47.65625 37.796875 51.625 33 \r\nQ 55.609375 28.21875 55.609375 21.1875 \r\nQ 55.609375 10.40625 48.1875 4.484375 \r\nQ 40.765625 -1.421875 27.09375 -1.421875 \r\nQ 22.515625 -1.421875 17.65625 -0.515625 \r\nQ 12.796875 0.390625 7.625 2.203125 \r\nL 7.625 11.71875 \r\nQ 11.71875 9.328125 16.59375 8.109375 \r\nQ 21.484375 6.890625 26.8125 6.890625 \r\nQ 36.078125 6.890625 40.9375 10.546875 \r\nQ 45.796875 14.203125 45.796875 21.1875 \r\nQ 45.796875 27.640625 41.28125 31.265625 \r\nQ 36.765625 34.90625 28.71875 34.90625 \r\nL 20.21875 34.90625 \r\nL 20.21875 43.015625 \r\nL 29.109375 43.015625 \r\nQ 36.375 43.015625 40.234375 45.921875 \r\nQ 44.09375 48.828125 44.09375 54.296875 \r\nQ 44.09375 59.90625 40.109375 62.90625 \r\nQ 36.140625 65.921875 28.71875 65.921875 \r\nQ 24.65625 65.921875 20.015625 65.03125 \r\nQ 15.375 64.15625 9.8125 62.3125 \r\nL 9.8125 71.09375 \r\nQ 15.4375 72.65625 20.34375 73.4375 \r\nQ 25.25 74.21875 29.59375 74.21875 \r\nQ 40.828125 74.21875 47.359375 69.109375 \r\nQ 53.90625 64.015625 53.90625 55.328125 \r\nQ 53.90625 49.265625 50.4375 45.09375 \r\nQ 46.96875 40.921875 40.578125 39.3125 \r\nz\r\n\" id=\"DejaVuSans-51\"/>\r\n       </defs>\r\n       <use xlink:href=\"#DejaVuSans-51\"/>\r\n       <use x=\"63.623047\" xlink:href=\"#DejaVuSans-48\"/>\r\n       <use x=\"127.246094\" xlink:href=\"#DejaVuSans-48\"/>\r\n      </g>\r\n     </g>\r\n    </g>\r\n    <g id=\"xtick_5\">\r\n     <g id=\"line2d_5\">\r\n      <g>\r\n       <use style=\"stroke:#000000;stroke-width:0.8;\" x=\"623.062922\" xlink:href=\"#ma21bf52500\" y=\"442.08\"/>\r\n      </g>\r\n     </g>\r\n     <g id=\"text_5\">\r\n      <!-- 400 -->\r\n      <g transform=\"translate(613.519172 456.678437)scale(0.1 -0.1)\">\r\n       <defs>\r\n        <path d=\"M 37.796875 64.3125 \r\nL 12.890625 25.390625 \r\nL 37.796875 25.390625 \r\nz\r\nM 35.203125 72.90625 \r\nL 47.609375 72.90625 \r\nL 47.609375 25.390625 \r\nL 58.015625 25.390625 \r\nL 58.015625 17.1875 \r\nL 47.609375 17.1875 \r\nL 47.609375 0 \r\nL 37.796875 0 \r\nL 37.796875 17.1875 \r\nL 4.890625 17.1875 \r\nL 4.890625 26.703125 \r\nz\r\n\" id=\"DejaVuSans-52\"/>\r\n       </defs>\r\n       <use xlink:href=\"#DejaVuSans-52\"/>\r\n       <use x=\"63.623047\" xlink:href=\"#DejaVuSans-48\"/>\r\n       <use x=\"127.246094\" xlink:href=\"#DejaVuSans-48\"/>\r\n      </g>\r\n     </g>\r\n    </g>\r\n   </g>\r\n   <g id=\"matplotlib.axis_2\">\r\n    <g id=\"ytick_1\">\r\n     <g id=\"line2d_6\">\r\n      <defs>\r\n       <path d=\"M 0 0 \r\nL -3.5 0 \r\n\" id=\"m86041ebb4a\" style=\"stroke:#000000;stroke-width:0.8;\"/>\r\n      </defs>\r\n      <g>\r\n       <use style=\"stroke:#000000;stroke-width:0.8;\" x=\"46.965625\" xlink:href=\"#m86041ebb4a\" y=\"442.08\"/>\r\n      </g>\r\n     </g>\r\n     <g id=\"text_6\">\r\n      <!-- 0 -->\r\n      <g transform=\"translate(33.603125 445.879219)scale(0.1 -0.1)\">\r\n       <use xlink:href=\"#DejaVuSans-48\"/>\r\n      </g>\r\n     </g>\r\n    </g>\r\n    <g id=\"ytick_2\">\r\n     <g id=\"line2d_7\">\r\n      <g>\r\n       <use style=\"stroke:#000000;stroke-width:0.8;\" x=\"46.965625\" xlink:href=\"#m86041ebb4a\" y=\"385.499204\"/>\r\n      </g>\r\n     </g>\r\n     <g id=\"text_7\">\r\n      <!-- 50 -->\r\n      <g transform=\"translate(27.240625 389.298422)scale(0.1 -0.1)\">\r\n       <defs>\r\n        <path d=\"M 10.796875 72.90625 \r\nL 49.515625 72.90625 \r\nL 49.515625 64.59375 \r\nL 19.828125 64.59375 \r\nL 19.828125 46.734375 \r\nQ 21.96875 47.46875 24.109375 47.828125 \r\nQ 26.265625 48.1875 28.421875 48.1875 \r\nQ 40.625 48.1875 47.75 41.5 \r\nQ 54.890625 34.8125 54.890625 23.390625 \r\nQ 54.890625 11.625 47.5625 5.09375 \r\nQ 40.234375 -1.421875 26.90625 -1.421875 \r\nQ 22.3125 -1.421875 17.546875 -0.640625 \r\nQ 12.796875 0.140625 7.71875 1.703125 \r\nL 7.71875 11.625 \r\nQ 12.109375 9.234375 16.796875 8.0625 \r\nQ 21.484375 6.890625 26.703125 6.890625 \r\nQ 35.15625 6.890625 40.078125 11.328125 \r\nQ 45.015625 15.765625 45.015625 23.390625 \r\nQ 45.015625 31 40.078125 35.4375 \r\nQ 35.15625 39.890625 26.703125 39.890625 \r\nQ 22.75 39.890625 18.8125 39.015625 \r\nQ 14.890625 38.140625 10.796875 36.28125 \r\nz\r\n\" id=\"DejaVuSans-53\"/>\r\n       </defs>\r\n       <use xlink:href=\"#DejaVuSans-53\"/>\r\n       <use x=\"63.623047\" xlink:href=\"#DejaVuSans-48\"/>\r\n      </g>\r\n     </g>\r\n    </g>\r\n    <g id=\"ytick_3\">\r\n     <g id=\"line2d_8\">\r\n      <g>\r\n       <use style=\"stroke:#000000;stroke-width:0.8;\" x=\"46.965625\" xlink:href=\"#m86041ebb4a\" y=\"328.918407\"/>\r\n      </g>\r\n     </g>\r\n     <g id=\"text_8\">\r\n      <!-- 100 -->\r\n      <g transform=\"translate(20.878125 332.717626)scale(0.1 -0.1)\">\r\n       <use xlink:href=\"#DejaVuSans-49\"/>\r\n       <use x=\"63.623047\" xlink:href=\"#DejaVuSans-48\"/>\r\n       <use x=\"127.246094\" xlink:href=\"#DejaVuSans-48\"/>\r\n      </g>\r\n     </g>\r\n    </g>\r\n    <g id=\"ytick_4\">\r\n     <g id=\"line2d_9\">\r\n      <g>\r\n       <use style=\"stroke:#000000;stroke-width:0.8;\" x=\"46.965625\" xlink:href=\"#m86041ebb4a\" y=\"272.337611\"/>\r\n      </g>\r\n     </g>\r\n     <g id=\"text_9\">\r\n      <!-- 150 -->\r\n      <g transform=\"translate(20.878125 276.13683)scale(0.1 -0.1)\">\r\n       <use xlink:href=\"#DejaVuSans-49\"/>\r\n       <use x=\"63.623047\" xlink:href=\"#DejaVuSans-53\"/>\r\n       <use x=\"127.246094\" xlink:href=\"#DejaVuSans-48\"/>\r\n      </g>\r\n     </g>\r\n    </g>\r\n    <g id=\"ytick_5\">\r\n     <g id=\"line2d_10\">\r\n      <g>\r\n       <use style=\"stroke:#000000;stroke-width:0.8;\" x=\"46.965625\" xlink:href=\"#m86041ebb4a\" y=\"215.756815\"/>\r\n      </g>\r\n     </g>\r\n     <g id=\"text_10\">\r\n      <!-- 200 -->\r\n      <g transform=\"translate(20.878125 219.556034)scale(0.1 -0.1)\">\r\n       <use xlink:href=\"#DejaVuSans-50\"/>\r\n       <use x=\"63.623047\" xlink:href=\"#DejaVuSans-48\"/>\r\n       <use x=\"127.246094\" xlink:href=\"#DejaVuSans-48\"/>\r\n      </g>\r\n     </g>\r\n    </g>\r\n    <g id=\"ytick_6\">\r\n     <g id=\"line2d_11\">\r\n      <g>\r\n       <use style=\"stroke:#000000;stroke-width:0.8;\" x=\"46.965625\" xlink:href=\"#m86041ebb4a\" y=\"159.176019\"/>\r\n      </g>\r\n     </g>\r\n     <g id=\"text_11\">\r\n      <!-- 250 -->\r\n      <g transform=\"translate(20.878125 162.975237)scale(0.1 -0.1)\">\r\n       <use xlink:href=\"#DejaVuSans-50\"/>\r\n       <use x=\"63.623047\" xlink:href=\"#DejaVuSans-53\"/>\r\n       <use x=\"127.246094\" xlink:href=\"#DejaVuSans-48\"/>\r\n      </g>\r\n     </g>\r\n    </g>\r\n    <g id=\"ytick_7\">\r\n     <g id=\"line2d_12\">\r\n      <g>\r\n       <use style=\"stroke:#000000;stroke-width:0.8;\" x=\"46.965625\" xlink:href=\"#m86041ebb4a\" y=\"102.595222\"/>\r\n      </g>\r\n     </g>\r\n     <g id=\"text_12\">\r\n      <!-- 300 -->\r\n      <g transform=\"translate(20.878125 106.394441)scale(0.1 -0.1)\">\r\n       <use xlink:href=\"#DejaVuSans-51\"/>\r\n       <use x=\"63.623047\" xlink:href=\"#DejaVuSans-48\"/>\r\n       <use x=\"127.246094\" xlink:href=\"#DejaVuSans-48\"/>\r\n      </g>\r\n     </g>\r\n    </g>\r\n    <g id=\"ytick_8\">\r\n     <g id=\"line2d_13\">\r\n      <g>\r\n       <use style=\"stroke:#000000;stroke-width:0.8;\" x=\"46.965625\" xlink:href=\"#m86041ebb4a\" y=\"46.014426\"/>\r\n      </g>\r\n     </g>\r\n     <g id=\"text_13\">\r\n      <!-- 350 -->\r\n      <g transform=\"translate(20.878125 49.813645)scale(0.1 -0.1)\">\r\n       <use xlink:href=\"#DejaVuSans-51\"/>\r\n       <use x=\"63.623047\" xlink:href=\"#DejaVuSans-53\"/>\r\n       <use x=\"127.246094\" xlink:href=\"#DejaVuSans-48\"/>\r\n      </g>\r\n     </g>\r\n    </g>\r\n    <g id=\"text_14\">\r\n     <!-- Frequency -->\r\n     <g transform=\"translate(14.798438 250.469687)rotate(-90)scale(0.1 -0.1)\">\r\n      <defs>\r\n       <path d=\"M 9.8125 72.90625 \r\nL 51.703125 72.90625 \r\nL 51.703125 64.59375 \r\nL 19.671875 64.59375 \r\nL 19.671875 43.109375 \r\nL 48.578125 43.109375 \r\nL 48.578125 34.8125 \r\nL 19.671875 34.8125 \r\nL 19.671875 0 \r\nL 9.8125 0 \r\nz\r\n\" id=\"DejaVuSans-70\"/>\r\n       <path d=\"M 41.109375 46.296875 \r\nQ 39.59375 47.171875 37.8125 47.578125 \r\nQ 36.03125 48 33.890625 48 \r\nQ 26.265625 48 22.1875 43.046875 \r\nQ 18.109375 38.09375 18.109375 28.8125 \r\nL 18.109375 0 \r\nL 9.078125 0 \r\nL 9.078125 54.6875 \r\nL 18.109375 54.6875 \r\nL 18.109375 46.1875 \r\nQ 20.953125 51.171875 25.484375 53.578125 \r\nQ 30.03125 56 36.53125 56 \r\nQ 37.453125 56 38.578125 55.875 \r\nQ 39.703125 55.765625 41.0625 55.515625 \r\nz\r\n\" id=\"DejaVuSans-114\"/>\r\n       <path d=\"M 56.203125 29.59375 \r\nL 56.203125 25.203125 \r\nL 14.890625 25.203125 \r\nQ 15.484375 15.921875 20.484375 11.0625 \r\nQ 25.484375 6.203125 34.421875 6.203125 \r\nQ 39.59375 6.203125 44.453125 7.46875 \r\nQ 49.3125 8.734375 54.109375 11.28125 \r\nL 54.109375 2.78125 \r\nQ 49.265625 0.734375 44.1875 -0.34375 \r\nQ 39.109375 -1.421875 33.890625 -1.421875 \r\nQ 20.796875 -1.421875 13.15625 6.1875 \r\nQ 5.515625 13.8125 5.515625 26.8125 \r\nQ 5.515625 40.234375 12.765625 48.109375 \r\nQ 20.015625 56 32.328125 56 \r\nQ 43.359375 56 49.78125 48.890625 \r\nQ 56.203125 41.796875 56.203125 29.59375 \r\nz\r\nM 47.21875 32.234375 \r\nQ 47.125 39.59375 43.09375 43.984375 \r\nQ 39.0625 48.390625 32.421875 48.390625 \r\nQ 24.90625 48.390625 20.390625 44.140625 \r\nQ 15.875 39.890625 15.1875 32.171875 \r\nz\r\n\" id=\"DejaVuSans-101\"/>\r\n       <path d=\"M 14.796875 27.296875 \r\nQ 14.796875 17.390625 18.875 11.75 \r\nQ 22.953125 6.109375 30.078125 6.109375 \r\nQ 37.203125 6.109375 41.296875 11.75 \r\nQ 45.40625 17.390625 45.40625 27.296875 \r\nQ 45.40625 37.203125 41.296875 42.84375 \r\nQ 37.203125 48.484375 30.078125 48.484375 \r\nQ 22.953125 48.484375 18.875 42.84375 \r\nQ 14.796875 37.203125 14.796875 27.296875 \r\nz\r\nM 45.40625 8.203125 \r\nQ 42.578125 3.328125 38.25 0.953125 \r\nQ 33.9375 -1.421875 27.875 -1.421875 \r\nQ 17.96875 -1.421875 11.734375 6.484375 \r\nQ 5.515625 14.40625 5.515625 27.296875 \r\nQ 5.515625 40.1875 11.734375 48.09375 \r\nQ 17.96875 56 27.875 56 \r\nQ 33.9375 56 38.25 53.625 \r\nQ 42.578125 51.265625 45.40625 46.390625 \r\nL 45.40625 54.6875 \r\nL 54.390625 54.6875 \r\nL 54.390625 -20.796875 \r\nL 45.40625 -20.796875 \r\nz\r\n\" id=\"DejaVuSans-113\"/>\r\n       <path d=\"M 8.5 21.578125 \r\nL 8.5 54.6875 \r\nL 17.484375 54.6875 \r\nL 17.484375 21.921875 \r\nQ 17.484375 14.15625 20.5 10.265625 \r\nQ 23.53125 6.390625 29.59375 6.390625 \r\nQ 36.859375 6.390625 41.078125 11.03125 \r\nQ 45.3125 15.671875 45.3125 23.6875 \r\nL 45.3125 54.6875 \r\nL 54.296875 54.6875 \r\nL 54.296875 0 \r\nL 45.3125 0 \r\nL 45.3125 8.40625 \r\nQ 42.046875 3.421875 37.71875 1 \r\nQ 33.40625 -1.421875 27.6875 -1.421875 \r\nQ 18.265625 -1.421875 13.375 4.4375 \r\nQ 8.5 10.296875 8.5 21.578125 \r\nz\r\nM 31.109375 56 \r\nz\r\n\" id=\"DejaVuSans-117\"/>\r\n       <path d=\"M 54.890625 33.015625 \r\nL 54.890625 0 \r\nL 45.90625 0 \r\nL 45.90625 32.71875 \r\nQ 45.90625 40.484375 42.875 44.328125 \r\nQ 39.84375 48.1875 33.796875 48.1875 \r\nQ 26.515625 48.1875 22.3125 43.546875 \r\nQ 18.109375 38.921875 18.109375 30.90625 \r\nL 18.109375 0 \r\nL 9.078125 0 \r\nL 9.078125 54.6875 \r\nL 18.109375 54.6875 \r\nL 18.109375 46.1875 \r\nQ 21.34375 51.125 25.703125 53.5625 \r\nQ 30.078125 56 35.796875 56 \r\nQ 45.21875 56 50.046875 50.171875 \r\nQ 54.890625 44.34375 54.890625 33.015625 \r\nz\r\n\" id=\"DejaVuSans-110\"/>\r\n       <path d=\"M 48.78125 52.59375 \r\nL 48.78125 44.1875 \r\nQ 44.96875 46.296875 41.140625 47.34375 \r\nQ 37.3125 48.390625 33.40625 48.390625 \r\nQ 24.65625 48.390625 19.8125 42.84375 \r\nQ 14.984375 37.3125 14.984375 27.296875 \r\nQ 14.984375 17.28125 19.8125 11.734375 \r\nQ 24.65625 6.203125 33.40625 6.203125 \r\nQ 37.3125 6.203125 41.140625 7.25 \r\nQ 44.96875 8.296875 48.78125 10.40625 \r\nL 48.78125 2.09375 \r\nQ 45.015625 0.34375 40.984375 -0.53125 \r\nQ 36.96875 -1.421875 32.421875 -1.421875 \r\nQ 20.0625 -1.421875 12.78125 6.34375 \r\nQ 5.515625 14.109375 5.515625 27.296875 \r\nQ 5.515625 40.671875 12.859375 48.328125 \r\nQ 20.21875 56 33.015625 56 \r\nQ 37.15625 56 41.109375 55.140625 \r\nQ 45.0625 54.296875 48.78125 52.59375 \r\nz\r\n\" id=\"DejaVuSans-99\"/>\r\n       <path d=\"M 32.171875 -5.078125 \r\nQ 28.375 -14.84375 24.75 -17.8125 \r\nQ 21.140625 -20.796875 15.09375 -20.796875 \r\nL 7.90625 -20.796875 \r\nL 7.90625 -13.28125 \r\nL 13.1875 -13.28125 \r\nQ 16.890625 -13.28125 18.9375 -11.515625 \r\nQ 21 -9.765625 23.484375 -3.21875 \r\nL 25.09375 0.875 \r\nL 2.984375 54.6875 \r\nL 12.5 54.6875 \r\nL 29.59375 11.921875 \r\nL 46.6875 54.6875 \r\nL 56.203125 54.6875 \r\nz\r\n\" id=\"DejaVuSans-121\"/>\r\n      </defs>\r\n      <use xlink:href=\"#DejaVuSans-70\"/>\r\n      <use x=\"50.269531\" xlink:href=\"#DejaVuSans-114\"/>\r\n      <use x=\"89.132812\" xlink:href=\"#DejaVuSans-101\"/>\r\n      <use x=\"150.65625\" xlink:href=\"#DejaVuSans-113\"/>\r\n      <use x=\"214.132812\" xlink:href=\"#DejaVuSans-117\"/>\r\n      <use x=\"277.511719\" xlink:href=\"#DejaVuSans-101\"/>\r\n      <use x=\"339.035156\" xlink:href=\"#DejaVuSans-110\"/>\r\n      <use x=\"402.414062\" xlink:href=\"#DejaVuSans-99\"/>\r\n      <use x=\"457.394531\" xlink:href=\"#DejaVuSans-121\"/>\r\n     </g>\r\n    </g>\r\n   </g>\r\n   <g id=\"patch_23\">\r\n    <path d=\"M 46.965625 442.08 \r\nL 46.965625 7.2 \r\n\" style=\"fill:none;stroke:#000000;stroke-linecap:square;stroke-linejoin:miter;stroke-width:0.8;\"/>\r\n   </g>\r\n   <g id=\"patch_24\">\r\n    <path d=\"M 716.565625 442.08 \r\nL 716.565625 7.2 \r\n\" style=\"fill:none;stroke:#000000;stroke-linecap:square;stroke-linejoin:miter;stroke-width:0.8;\"/>\r\n   </g>\r\n   <g id=\"patch_25\">\r\n    <path d=\"M 46.965625 442.08 \r\nL 716.565625 442.08 \r\n\" style=\"fill:none;stroke:#000000;stroke-linecap:square;stroke-linejoin:miter;stroke-width:0.8;\"/>\r\n   </g>\r\n   <g id=\"patch_26\">\r\n    <path d=\"M 46.965625 7.2 \r\nL 716.565625 7.2 \r\n\" style=\"fill:none;stroke:#000000;stroke-linecap:square;stroke-linejoin:miter;stroke-width:0.8;\"/>\r\n   </g>\r\n   <g id=\"legend_1\">\r\n    <g id=\"patch_27\">\r\n     <path d=\"M 626.59375 44.55625 \r\nL 709.565625 44.55625 \r\nQ 711.565625 44.55625 711.565625 42.55625 \r\nL 711.565625 14.2 \r\nQ 711.565625 12.2 709.565625 12.2 \r\nL 626.59375 12.2 \r\nQ 624.59375 12.2 624.59375 14.2 \r\nL 624.59375 42.55625 \r\nQ 624.59375 44.55625 626.59375 44.55625 \r\nz\r\n\" style=\"fill:#ffffff;opacity:0.8;stroke:#cccccc;stroke-linejoin:miter;\"/>\r\n    </g>\r\n    <g id=\"patch_28\">\r\n     <path d=\"M 628.59375 23.798437 \r\nL 648.59375 23.798437 \r\nL 648.59375 16.798437 \r\nL 628.59375 16.798437 \r\nz\r\n\" style=\"fill:#0000ff;\"/>\r\n    </g>\r\n    <g id=\"text_15\">\r\n     <!-- Non-spam -->\r\n     <g transform=\"translate(656.59375 23.798437)scale(0.1 -0.1)\">\r\n      <defs>\r\n       <path d=\"M 9.8125 72.90625 \r\nL 23.09375 72.90625 \r\nL 55.421875 11.921875 \r\nL 55.421875 72.90625 \r\nL 64.984375 72.90625 \r\nL 64.984375 0 \r\nL 51.703125 0 \r\nL 19.390625 60.984375 \r\nL 19.390625 0 \r\nL 9.8125 0 \r\nz\r\n\" id=\"DejaVuSans-78\"/>\r\n       <path d=\"M 30.609375 48.390625 \r\nQ 23.390625 48.390625 19.1875 42.75 \r\nQ 14.984375 37.109375 14.984375 27.296875 \r\nQ 14.984375 17.484375 19.15625 11.84375 \r\nQ 23.34375 6.203125 30.609375 6.203125 \r\nQ 37.796875 6.203125 41.984375 11.859375 \r\nQ 46.1875 17.53125 46.1875 27.296875 \r\nQ 46.1875 37.015625 41.984375 42.703125 \r\nQ 37.796875 48.390625 30.609375 48.390625 \r\nz\r\nM 30.609375 56 \r\nQ 42.328125 56 49.015625 48.375 \r\nQ 55.71875 40.765625 55.71875 27.296875 \r\nQ 55.71875 13.875 49.015625 6.21875 \r\nQ 42.328125 -1.421875 30.609375 -1.421875 \r\nQ 18.84375 -1.421875 12.171875 6.21875 \r\nQ 5.515625 13.875 5.515625 27.296875 \r\nQ 5.515625 40.765625 12.171875 48.375 \r\nQ 18.84375 56 30.609375 56 \r\nz\r\n\" id=\"DejaVuSans-111\"/>\r\n       <path d=\"M 4.890625 31.390625 \r\nL 31.203125 31.390625 \r\nL 31.203125 23.390625 \r\nL 4.890625 23.390625 \r\nz\r\n\" id=\"DejaVuSans-45\"/>\r\n       <path d=\"M 44.28125 53.078125 \r\nL 44.28125 44.578125 \r\nQ 40.484375 46.53125 36.375 47.5 \r\nQ 32.28125 48.484375 27.875 48.484375 \r\nQ 21.1875 48.484375 17.84375 46.4375 \r\nQ 14.5 44.390625 14.5 40.28125 \r\nQ 14.5 37.15625 16.890625 35.375 \r\nQ 19.28125 33.59375 26.515625 31.984375 \r\nL 29.59375 31.296875 \r\nQ 39.15625 29.25 43.1875 25.515625 \r\nQ 47.21875 21.78125 47.21875 15.09375 \r\nQ 47.21875 7.46875 41.1875 3.015625 \r\nQ 35.15625 -1.421875 24.609375 -1.421875 \r\nQ 20.21875 -1.421875 15.453125 -0.5625 \r\nQ 10.6875 0.296875 5.421875 2 \r\nL 5.421875 11.28125 \r\nQ 10.40625 8.6875 15.234375 7.390625 \r\nQ 20.0625 6.109375 24.8125 6.109375 \r\nQ 31.15625 6.109375 34.5625 8.28125 \r\nQ 37.984375 10.453125 37.984375 14.40625 \r\nQ 37.984375 18.0625 35.515625 20.015625 \r\nQ 33.0625 21.96875 24.703125 23.78125 \r\nL 21.578125 24.515625 \r\nQ 13.234375 26.265625 9.515625 29.90625 \r\nQ 5.8125 33.546875 5.8125 39.890625 \r\nQ 5.8125 47.609375 11.28125 51.796875 \r\nQ 16.75 56 26.8125 56 \r\nQ 31.78125 56 36.171875 55.265625 \r\nQ 40.578125 54.546875 44.28125 53.078125 \r\nz\r\n\" id=\"DejaVuSans-115\"/>\r\n       <path d=\"M 18.109375 8.203125 \r\nL 18.109375 -20.796875 \r\nL 9.078125 -20.796875 \r\nL 9.078125 54.6875 \r\nL 18.109375 54.6875 \r\nL 18.109375 46.390625 \r\nQ 20.953125 51.265625 25.265625 53.625 \r\nQ 29.59375 56 35.59375 56 \r\nQ 45.5625 56 51.78125 48.09375 \r\nQ 58.015625 40.1875 58.015625 27.296875 \r\nQ 58.015625 14.40625 51.78125 6.484375 \r\nQ 45.5625 -1.421875 35.59375 -1.421875 \r\nQ 29.59375 -1.421875 25.265625 0.953125 \r\nQ 20.953125 3.328125 18.109375 8.203125 \r\nz\r\nM 48.6875 27.296875 \r\nQ 48.6875 37.203125 44.609375 42.84375 \r\nQ 40.53125 48.484375 33.40625 48.484375 \r\nQ 26.265625 48.484375 22.1875 42.84375 \r\nQ 18.109375 37.203125 18.109375 27.296875 \r\nQ 18.109375 17.390625 22.1875 11.75 \r\nQ 26.265625 6.109375 33.40625 6.109375 \r\nQ 40.53125 6.109375 44.609375 11.75 \r\nQ 48.6875 17.390625 48.6875 27.296875 \r\nz\r\n\" id=\"DejaVuSans-112\"/>\r\n       <path d=\"M 34.28125 27.484375 \r\nQ 23.390625 27.484375 19.1875 25 \r\nQ 14.984375 22.515625 14.984375 16.5 \r\nQ 14.984375 11.71875 18.140625 8.90625 \r\nQ 21.296875 6.109375 26.703125 6.109375 \r\nQ 34.1875 6.109375 38.703125 11.40625 \r\nQ 43.21875 16.703125 43.21875 25.484375 \r\nL 43.21875 27.484375 \r\nz\r\nM 52.203125 31.203125 \r\nL 52.203125 0 \r\nL 43.21875 0 \r\nL 43.21875 8.296875 \r\nQ 40.140625 3.328125 35.546875 0.953125 \r\nQ 30.953125 -1.421875 24.3125 -1.421875 \r\nQ 15.921875 -1.421875 10.953125 3.296875 \r\nQ 6 8.015625 6 15.921875 \r\nQ 6 25.140625 12.171875 29.828125 \r\nQ 18.359375 34.515625 30.609375 34.515625 \r\nL 43.21875 34.515625 \r\nL 43.21875 35.40625 \r\nQ 43.21875 41.609375 39.140625 45 \r\nQ 35.0625 48.390625 27.6875 48.390625 \r\nQ 23 48.390625 18.546875 47.265625 \r\nQ 14.109375 46.140625 10.015625 43.890625 \r\nL 10.015625 52.203125 \r\nQ 14.9375 54.109375 19.578125 55.046875 \r\nQ 24.21875 56 28.609375 56 \r\nQ 40.484375 56 46.34375 49.84375 \r\nQ 52.203125 43.703125 52.203125 31.203125 \r\nz\r\n\" id=\"DejaVuSans-97\"/>\r\n       <path d=\"M 52 44.1875 \r\nQ 55.375 50.25 60.0625 53.125 \r\nQ 64.75 56 71.09375 56 \r\nQ 79.640625 56 84.28125 50.015625 \r\nQ 88.921875 44.046875 88.921875 33.015625 \r\nL 88.921875 0 \r\nL 79.890625 0 \r\nL 79.890625 32.71875 \r\nQ 79.890625 40.578125 77.09375 44.375 \r\nQ 74.3125 48.1875 68.609375 48.1875 \r\nQ 61.625 48.1875 57.5625 43.546875 \r\nQ 53.515625 38.921875 53.515625 30.90625 \r\nL 53.515625 0 \r\nL 44.484375 0 \r\nL 44.484375 32.71875 \r\nQ 44.484375 40.625 41.703125 44.40625 \r\nQ 38.921875 48.1875 33.109375 48.1875 \r\nQ 26.21875 48.1875 22.15625 43.53125 \r\nQ 18.109375 38.875 18.109375 30.90625 \r\nL 18.109375 0 \r\nL 9.078125 0 \r\nL 9.078125 54.6875 \r\nL 18.109375 54.6875 \r\nL 18.109375 46.1875 \r\nQ 21.1875 51.21875 25.484375 53.609375 \r\nQ 29.78125 56 35.6875 56 \r\nQ 41.65625 56 45.828125 52.96875 \r\nQ 50 49.953125 52 44.1875 \r\nz\r\n\" id=\"DejaVuSans-109\"/>\r\n      </defs>\r\n      <use xlink:href=\"#DejaVuSans-78\"/>\r\n      <use x=\"74.804688\" xlink:href=\"#DejaVuSans-111\"/>\r\n      <use x=\"135.986328\" xlink:href=\"#DejaVuSans-110\"/>\r\n      <use x=\"199.365234\" xlink:href=\"#DejaVuSans-45\"/>\r\n      <use x=\"235.449219\" xlink:href=\"#DejaVuSans-115\"/>\r\n      <use x=\"287.548828\" xlink:href=\"#DejaVuSans-112\"/>\r\n      <use x=\"351.025391\" xlink:href=\"#DejaVuSans-97\"/>\r\n      <use x=\"412.304688\" xlink:href=\"#DejaVuSans-109\"/>\r\n     </g>\r\n    </g>\r\n    <g id=\"patch_29\">\r\n     <path d=\"M 628.59375 38.476562 \r\nL 648.59375 38.476562 \r\nL 648.59375 31.476562 \r\nL 628.59375 31.476562 \r\nz\r\n\" style=\"fill:#ff0000;\"/>\r\n    </g>\r\n    <g id=\"text_16\">\r\n     <!-- spam -->\r\n     <g transform=\"translate(656.59375 38.476562)scale(0.1 -0.1)\">\r\n      <use xlink:href=\"#DejaVuSans-115\"/>\r\n      <use x=\"52.099609\" xlink:href=\"#DejaVuSans-112\"/>\r\n      <use x=\"115.576172\" xlink:href=\"#DejaVuSans-97\"/>\r\n      <use x=\"176.855469\" xlink:href=\"#DejaVuSans-109\"/>\r\n     </g>\r\n    </g>\r\n   </g>\r\n  </g>\r\n </g>\r\n <defs>\r\n  <clipPath id=\"p9ea5193758\">\r\n   <rect height=\"434.88\" width=\"669.6\" x=\"46.965625\" y=\"7.2\"/>\r\n  </clipPath>\r\n </defs>\r\n</svg>\r\n",
      "image/png": "[encoded data removed]"
     },
     "metadata": {
      "needs_background": "light"
     }
    }
   ],
   "source": [
    "plt.figure(figsize=(12,8))\n",
    "train_data[train_data.Label==0].length.plot(kind='hist',color='blue',label='Non-spam')\n",
    "train_data[train_data.Label==1].length.plot(kind='hist',color='red',label='spam')\n",
    "plt.legend()\n",
    "plt.show()"
   ]
  },
  {
   "cell_type": "code",
   "execution_count": 13,
   "metadata": {},
   "outputs": [],
   "source": [
    "import string\n",
    "from nltk.corpus import stopwords\n",
    "import nltk"
   ]
  },
  {
   "cell_type": "code",
   "execution_count": 14,
   "metadata": {},
   "outputs": [],
   "source": [
    "def text_process(mess):\n",
    "    clean_stopwords = []\n",
    "    for sw in stopwords.words('english'):\n",
    "        clean_stopwords.append(''.join([tmp.lower() for tmp in sw if tmp not in string.punctuation]))\n",
    "\n",
    "    clean = ''.join([tmp.lower() for tmp in mess if tmp not in string.punctuation ])\n",
    "    clean = ' '.join([tmp for tmp in clean.split() if tmp not in clean_stopwords+['2','ur','4','u','im']])\n",
    "    \n",
    "    return clean\n",
    "    "
   ]
  },
  {
   "cell_type": "code",
   "execution_count": 15,
   "metadata": {},
   "outputs": [
    {
     "output_type": "execute_result",
     "data": {
      "text/plain": [
       "'!\"#$%&\\'()*+,-./:;<=>?@[\\\\]^_`{|}~'"
      ]
     },
     "metadata": {},
     "execution_count": 15
    }
   ],
   "source": [
    "string.punctuation"
   ]
  },
  {
   "cell_type": "code",
   "execution_count": 16,
   "metadata": {},
   "outputs": [
    {
     "output_type": "execute_result",
     "data": {
      "text/plain": [
       "\"The guy did some bitching but I acted like i'd be interested in buying something else next week and he gave it to us for free\""
      ]
     },
     "metadata": {},
     "execution_count": 16
    }
   ],
   "source": [
    "train_data.Message_body[1]"
   ]
  },
  {
   "cell_type": "code",
   "execution_count": 17,
   "metadata": {},
   "outputs": [],
   "source": [
    "train_data['clean'] = train_data.Message_body.apply(text_process)"
   ]
  },
  {
   "cell_type": "code",
   "execution_count": 18,
   "metadata": {},
   "outputs": [
    {
     "output_type": "execute_result",
     "data": {
      "text/plain": [
       "0                                       rofl true name\n",
       "1    guy bitching acted like id interested buying s...\n",
       "2                          pity mood soany suggestions\n",
       "3                            b going esplanade fr home\n",
       "4    2nd time tried contact 50 pound prize claim ea...\n",
       "5    reminder o2 get 250 pounds free call credit de...\n",
       "6                                              huh lei\n",
       "7                     wait til least wednesday see get\n",
       "8                                   ard 6 like dat lor\n",
       "9    ok lor sony ericsson salesman ask shuhui say q...\n",
       "Name: clean, dtype: object"
      ]
     },
     "metadata": {},
     "execution_count": 18
    }
   ],
   "source": [
    "train_data['clean'][:10]"
   ]
  },
  {
   "cell_type": "code",
   "execution_count": 19,
   "metadata": {},
   "outputs": [],
   "source": [
    "test_data['clean'] = test_data.Message_body.apply(text_process)"
   ]
  },
  {
   "cell_type": "code",
   "execution_count": 20,
   "metadata": {},
   "outputs": [
    {
     "output_type": "execute_result",
     "data": {
      "text/plain": [
       "0    rcv msgs chat svc free hardcore services text ...\n",
       "1    want get laid tonight want real dogging locati...\n",
       "2    sunshine quiz wkly q win top sony dvd player k...\n",
       "3    todays voda numbers ending 7548 selected recei...\n",
       "4    urgent mobile awarded 000 bonus caller prize 5...\n",
       "5    private 2004 account statement 07742676969 sho...\n",
       "6    winner specially selected receive 000 holiday ...\n",
       "7    gent trying contact last weekends draw shows 0...\n",
       "8    please call customer service representative 08...\n",
       "9             hear new divorce barbie comes kens stuff\n",
       "Name: clean, dtype: object"
      ]
     },
     "metadata": {},
     "execution_count": 20
    }
   ],
   "source": [
    "test_data['clean'][:10]"
   ]
  },
  {
   "cell_type": "code",
   "execution_count": 21,
   "metadata": {},
   "outputs": [
    {
     "output_type": "stream",
     "name": "stdout",
     "text": [
      "[('get', 50), ('go', 48), ('ok', 41), ('call', 41), ('ltgt', 39), ('know', 37), ('like', 35), ('day', 35), ('good', 33), ('got', 32), ('oh', 32), ('come', 31), ('home', 30), ('one', 30), ('time', 30), ('want', 30), ('later', 29), ('ill', 28), ('back', 28), ('see', 27), ('need', 26), ('going', 25), ('lor', 25), ('tell', 25), ('love', 24), ('pls', 24), ('well', 23), ('still', 22), ('hey', 22), ('cant', 21), ('give', 21), ('r', 20), ('take', 20), ('today', 20), ('sorry', 19), ('thats', 19), ('da', 19), ('ask', 18), ('anything', 18), ('think', 18), ('hi', 18), ('work', 18), ('make', 18), ('phone', 18), ('n', 18), ('week', 17), ('great', 17), ('yeah', 17), ('send', 17), ('face', 17)]\n\n\n[('call', 86), ('free', 53), ('stop', 34), ('mobile', 33), ('txt', 29), ('claim', 27), ('text', 26), ('000', 24), ('reply', 21), ('prize', 20), ('get', 19), ('00', 17), ('cash', 17), ('send', 16), ('50', 15), ('guaranteed', 15), ('customer', 15), ('contact', 13), ('urgent', 13), ('latest', 13), ('service', 13), ('camera', 12), ('nokia', 12), ('per', 11), ('shows', 11), ('code', 11), ('16', 11), ('line', 11), ('number', 11), ('week', 11), ('receive', 11), ('awarded', 10), ('phone', 10), ('1', 10), ('new', 10), ('please', 10), ('mins', 9), ('draw', 9), ('tc', 9), ('update', 9), ('go', 9), ('win', 9), ('tone', 9), ('private', 8), ('account', 8), ('statement', 8), ('expires', 8), ('holiday', 8), ('ringtone', 8), ('award', 8)]\n"
     ]
    }
   ],
   "source": [
    "from collections import Counter\n",
    "\n",
    "train_nospam_words = train_data[train_data.Label==0].clean.apply(lambda x: [word.lower() for word in x.split()])\n",
    "train_spam_words = train_data[train_data.Label==1].clean.apply(lambda x: [word.lower() for word in x.split()])\n",
    "\n",
    "nospam_train = Counter()\n",
    "spam_train = Counter()\n",
    "for tmp in train_nospam_words:\n",
    "    nospam_train.update(tmp)\n",
    "for tmp in train_spam_words:\n",
    "    spam_train.update(tmp)\n",
    "\n",
    "print(nospam_train.most_common(50))\n",
    "print('\\n')\n",
    "print(spam_train.most_common(50))\n",
    "\n",
    "\n",
    "\n"
   ]
  },
  {
   "cell_type": "code",
   "execution_count": 22,
   "metadata": {},
   "outputs": [],
   "source": [
    "stemmer = nltk.SnowballStemmer(\"english\")\n",
    "\n",
    "def stemm_text(text):\n",
    "    text = ' '.join(stemmer.stem(word) for word in text.split(' '))\n",
    "    return text"
   ]
  },
  {
   "cell_type": "code",
   "execution_count": 23,
   "metadata": {},
   "outputs": [
    {
     "output_type": "stream",
     "name": "stdout",
     "text": [
      "                                        Message_body  Label  length  \\\n0                         Rofl. Its true to its name      0      26   \n1  The guy did some bitching but I acted like i'd...      0     125   \n2  Pity, * was in mood for that. So...any other s...      0      57   \n3                Will ?b going to esplanade fr home?      0      35   \n4  This is the 2nd time we have tried 2 contact u...      1     159   \n\n                                               clean  \\\n0                                     rofl true name   \n1  guy bitching acted like id interested buying s...   \n2                        pity mood soany suggestions   \n3                          b going esplanade fr home   \n4  2nd time tried contact 50 pound prize claim ea...   \n\n                                         clean_stemm  \n0                                     rofl true name  \n1  guy bitch act like id interest buy someth els ...  \n2                            piti mood soani suggest  \n3                              b go esplanad fr home  \n4  2nd time tri contact 50 pound prize claim easi...  \n                                        Message_body  length  \\\n0  You'll not rcv any more msgs from the chat svc...     155   \n1  Want 2 get laid tonight? Want real Dogging loc...     162   \n2  Sunshine Quiz Wkly Q! Win a top Sony DVD playe...     124   \n3  Todays Voda numbers ending 7548 are selected t...     156   \n4  URGENT! Your Mobile No. was awarded ?000 Bonus...     155   \n\n                                               clean  \\\n0  rcv msgs chat svc free hardcore services text ...   \n1  want get laid tonight want real dogging locati...   \n2  sunshine quiz wkly q win top sony dvd player k...   \n3  todays voda numbers ending 7548 selected recei...   \n4  urgent mobile awarded 000 bonus caller prize 5...   \n\n                                         clean_stemm  \n0  rcv msgs chat svc free hardcor servic text go ...  \n1  want get laid tonight want real dog locat sent...  \n2  sunshin quiz wkli q win top soni dvd player kn...  \n3  today voda number end 7548 select receiv 350 a...  \n4  urgent mobil award 000 bonus caller prize 5903...  \n"
     ]
    }
   ],
   "source": [
    "train_data['clean_stemm'] = train_data['clean'].apply(stemm_text)\n",
    "test_data['clean_stemm'] = test_data['clean'].apply(stemm_text)\n",
    "print(train_data.head())\n",
    "print(test_data.head())"
   ]
  },
  {
   "cell_type": "code",
   "execution_count": 24,
   "metadata": {},
   "outputs": [],
   "source": [
    "def preprocess(text):\n",
    "    clean_stopwords = []\n",
    "    for sw in stopwords.words('english'):\n",
    "        clean_stopwords.append(''.join([tmp.lower() for tmp in sw if tmp not in string.punctuation]))\n",
    "\n",
    "    clean = ''.join([tmp.lower() for tmp in text if tmp not in string.punctuation ])\n",
    "    clean = ' '.join([tmp for tmp in clean.split() if tmp not in clean_stopwords+['2','ur','4','u','im']])\n",
    "    text = ' '.join(stemmer.stem(word) for word in text.split(' '))\n",
    "    return text"
   ]
  },
  {
   "cell_type": "code",
   "execution_count": 25,
   "metadata": {},
   "outputs": [],
   "source": [
    "train_data.clean_stemm = train_data.clean_stemm.apply(preprocess)\n",
    "test_data.clean_stemm = test_data.clean_stemm.apply(preprocess)"
   ]
  },
  {
   "cell_type": "code",
   "execution_count": 26,
   "metadata": {},
   "outputs": [
    {
     "output_type": "stream",
     "name": "stdout",
     "text": [
      "(975,)\n(975,)\n(731,)\n(731,)\n(244,)\n(244,)\n"
     ]
    }
   ],
   "source": [
    "from sklearn.model_selection import train_test_split\n",
    "\n",
    "x = train_data.clean_stemm\n",
    "y = train_data.Label\n",
    "print(x.shape)\n",
    "print(y.shape)\n",
    "\n",
    "x_train, x_test, y_train, y_test = train_test_split(x,y,random_state=100)\n",
    "print(x_train.shape)\n",
    "print(y_train.shape)\n",
    "print(x_test.shape)\n",
    "print(y_test.shape)"
   ]
  },
  {
   "cell_type": "code",
   "execution_count": 27,
   "metadata": {},
   "outputs": [],
   "source": [
    "from keras.preprocessing.text import Tokenizer\n",
    "from keras.preprocessing import sequence\n",
    "max_words = 1000\n",
    "max_len = 150\n",
    "tok = Tokenizer(num_words=max_words)\n",
    "tok.fit_on_texts(x_train)\n",
    "sequences = tok.texts_to_sequences(x_train)\n",
    "sequences_matrix = sequence.pad_sequences(sequences,maxlen=max_len)"
   ]
  },
  {
   "cell_type": "code",
   "execution_count": 28,
   "metadata": {},
   "outputs": [
    {
     "output_type": "stream",
     "name": "stdout",
     "text": [
      "Model: \"sequential\"\n_________________________________________________________________\nLayer (type)                 Output Shape              Param #   \n=================================================================\nembedding (Embedding)        (None, 150, 50)           50000     \n_________________________________________________________________\nlstm (LSTM)                  (None, 64)                29440     \n_________________________________________________________________\nactivation (Activation)      (None, 64)                0         \n_________________________________________________________________\ndense (Dense)                (None, 256)               16640     \n_________________________________________________________________\ndropout (Dropout)            (None, 256)               0         \n_________________________________________________________________\noutLayer (Dense)             (None, 1)                 257       \n_________________________________________________________________\nactivation_1 (Activation)    (None, 1)                 0         \n=================================================================\nTotal params: 96,337\nTrainable params: 96,337\nNon-trainable params: 0\n_________________________________________________________________\n"
     ]
    }
   ],
   "source": [
    "from tensorflow.keras.models import Sequential\n",
    "from keras.layers import LSTM, Activation, Dense, Dropout, Input, Embedding\n",
    "model = Sequential()\n",
    "model.add(Embedding(max_words,50,input_length=max_len))\n",
    "model.add(LSTM(64))\n",
    "model.add(Activation('relu'))\n",
    "model.add(Dense(256))\n",
    "model.add(Dropout(0.7))\n",
    "model.add(Dense(1,name='outLayer'))\n",
    "model.add(Activation('sigmoid'))\n",
    "model.summary()\n"
   ]
  },
  {
   "cell_type": "code",
   "execution_count": 29,
   "metadata": {},
   "outputs": [],
   "source": [
    "from keras.optimizers import Adam\n",
    "model.compile(loss='binary_crossentropy', optimizer=Adam(lr=0.001, beta_1=0.9, beta_2=0.999),metrics=['accuracy'])"
   ]
  },
  {
   "cell_type": "code",
   "execution_count": 30,
   "metadata": {},
   "outputs": [
    {
     "output_type": "stream",
     "name": "stdout",
     "text": [
      "Epoch 1/20\n",
      "5/5 [==============================] - 9s 2s/step - loss: 0.6724 - accuracy: 0.7483 - val_loss: 0.6215 - val_accuracy: 0.8435\n",
      "Epoch 2/20\n",
      "5/5 [==============================] - 3s 628ms/step - loss: 0.5821 - accuracy: 0.8219 - val_loss: 0.4556 - val_accuracy: 0.8435\n",
      "Epoch 3/20\n",
      "5/5 [==============================] - 3s 590ms/step - loss: 0.4521 - accuracy: 0.8219 - val_loss: 0.3792 - val_accuracy: 0.8435\n",
      "Epoch 4/20\n",
      "5/5 [==============================] - 2s 469ms/step - loss: 0.3886 - accuracy: 0.8219 - val_loss: 0.3424 - val_accuracy: 0.8435\n",
      "Epoch 5/20\n",
      "5/5 [==============================] - 4s 834ms/step - loss: 0.3444 - accuracy: 0.8219 - val_loss: 0.2974 - val_accuracy: 0.8435\n",
      "Epoch 6/20\n",
      "5/5 [==============================] - 5s 970ms/step - loss: 0.2902 - accuracy: 0.8219 - val_loss: 0.2391 - val_accuracy: 0.8435\n",
      "Epoch 7/20\n",
      "5/5 [==============================] - 3s 655ms/step - loss: 0.2327 - accuracy: 0.8305 - val_loss: 0.1977 - val_accuracy: 0.8844\n",
      "Epoch 8/20\n",
      "5/5 [==============================] - 5s 955ms/step - loss: 0.1822 - accuracy: 0.9298 - val_loss: 0.1638 - val_accuracy: 0.9592\n",
      "Epoch 9/20\n",
      "5/5 [==============================] - 5s 1s/step - loss: 0.1281 - accuracy: 0.9829 - val_loss: 0.1355 - val_accuracy: 0.9524\n",
      "Epoch 10/20\n",
      "5/5 [==============================] - 6s 1s/step - loss: 0.0793 - accuracy: 0.9829 - val_loss: 0.1536 - val_accuracy: 0.9388\n",
      "Epoch 11/20\n",
      "5/5 [==============================] - 4s 853ms/step - loss: 0.0573 - accuracy: 0.9880 - val_loss: 0.1440 - val_accuracy: 0.9388\n",
      "Epoch 12/20\n",
      "5/5 [==============================] - 3s 607ms/step - loss: 0.0352 - accuracy: 0.9914 - val_loss: 0.1555 - val_accuracy: 0.9320\n",
      "Epoch 13/20\n",
      "5/5 [==============================] - 5s 1s/step - loss: 0.0229 - accuracy: 0.9949 - val_loss: 0.1240 - val_accuracy: 0.9592\n",
      "Epoch 14/20\n",
      "5/5 [==============================] - 3s 659ms/step - loss: 0.0165 - accuracy: 0.9949 - val_loss: 0.1294 - val_accuracy: 0.9592\n",
      "Epoch 15/20\n",
      "5/5 [==============================] - 4s 762ms/step - loss: 0.0121 - accuracy: 0.9966 - val_loss: 0.1440 - val_accuracy: 0.9660\n",
      "Epoch 16/20\n",
      "5/5 [==============================] - 5s 967ms/step - loss: 0.0084 - accuracy: 0.9983 - val_loss: 0.1499 - val_accuracy: 0.9592\n",
      "Epoch 17/20\n",
      "5/5 [==============================] - 4s 807ms/step - loss: 0.0063 - accuracy: 0.9983 - val_loss: 0.1518 - val_accuracy: 0.9728\n",
      "Epoch 18/20\n",
      "5/5 [==============================] - 6s 1s/step - loss: 0.0051 - accuracy: 0.9983 - val_loss: 0.1547 - val_accuracy: 0.9728\n",
      "Epoch 19/20\n",
      "5/5 [==============================] - 9s 2s/step - loss: 0.0037 - accuracy: 0.9983 - val_loss: 0.1754 - val_accuracy: 0.9524\n",
      "Epoch 20/20\n",
      "5/5 [==============================] - 6s 1s/step - loss: 0.0029 - accuracy: 1.0000 - val_loss: 0.1816 - val_accuracy: 0.9524\n"
     ]
    },
    {
     "output_type": "execute_result",
     "data": {
      "text/plain": [
       "<tensorflow.python.keras.callbacks.History at 0x2871d6713d0>"
      ]
     },
     "metadata": {},
     "execution_count": 30
    }
   ],
   "source": [
    "model.fit(sequences_matrix,y_train,batch_size=128,epochs=20,validation_split=0.2)"
   ]
  },
  {
   "cell_type": "code",
   "execution_count": 31,
   "metadata": {},
   "outputs": [],
   "source": [
    "test_sequences = tok.texts_to_sequences(x_test)\n",
    "test_sequences_matrix = sequence.pad_sequences(test_sequences,maxlen=max_len)"
   ]
  },
  {
   "cell_type": "code",
   "execution_count": 32,
   "metadata": {},
   "outputs": [
    {
     "output_type": "stream",
     "name": "stdout",
     "text": [
      "8/8 [==============================] - 0s 54ms/step - loss: 0.1076 - accuracy: 0.9795\n",
      "loss: 0.1076073944568634, accuracy: 0.9795082211494446\n"
     ]
    }
   ],
   "source": [
    "loss,accu = model.evaluate(test_sequences_matrix,y_test)\n",
    "print(f'loss: {loss}, accuracy: {accu}')"
   ]
  },
  {
   "cell_type": "code",
   "execution_count": 115,
   "metadata": {},
   "outputs": [
    {
     "output_type": "execute_result",
     "data": {
      "text/plain": [
       "'\\nfrom sklearn.feature_extraction.text import CountVectorizer\\nvect = CountVectorizer()\\nx_train_dtm = vect.fit_transform(x_train)\\nx_test_dtm = vect.fit_transform(x_test)\\npd.DataFrame(dtm.toarray(), columns=vect.get_feature_names())\\ntest_dtm = vect.transform(test_data.Message_body)\\ntest_dtm.toarray()\\npd.DataFrame(test_dtm.toarray(), columns=vect.get_feature_names())\\n'"
      ]
     },
     "metadata": {},
     "execution_count": 115
    }
   ],
   "source": [
    "'''\n",
    "from sklearn.feature_extraction.text import CountVectorizer\n",
    "vect = CountVectorizer()\n",
    "x_train_dtm = vect.fit_transform(x_train)\n",
    "x_test_dtm = vect.fit_transform(x_test)\n",
    "pd.DataFrame(dtm.toarray(), columns=vect.get_feature_names())\n",
    "test_dtm = vect.transform(test_data.Message_body)\n",
    "test_dtm.toarray()\n",
    "pd.DataFrame(test_dtm.toarray(), columns=vect.get_feature_names())\n",
    "'''"
   ]
  },
  {
   "cell_type": "code",
   "execution_count": 33,
   "metadata": {},
   "outputs": [
    {
     "output_type": "stream",
     "name": "stdout",
     "text": [
      "[[334, 4, 67, 11, 2, 3, 526, 296, 485, 918, 225, 42], [13, 3, 68, 13, 353, 174, 813, 833, 295, 602, 353, 225, 239, 543], [811, 252, 76, 654, 492, 18, 14, 74], [38, 626, 35, 167, 139, 108, 51, 448, 54, 1, 627, 628, 19, 120, 629, 258], [116, 10, 51, 36, 658, 52, 432, 42, 60, 1, 249, 250], [268, 462, 192, 269, 81, 270, 658, 219, 19, 1, 271, 120, 220], [548, 284, 139, 108, 36, 155, 887, 407, 251, 194, 389, 19, 233], [42, 60, 111, 156, 165, 81, 36, 52, 85, 1, 19, 120, 283, 362, 250], [54, 1, 44, 67, 409, 468, 85, 36, 49, 36, 52], [190, 86, 7, 133], [116, 51, 257, 36, 19, 14, 801], [884, 44, 54, 314, 576, 833, 51, 240, 658, 52, 1], [348, 112, 307, 284, 1, 224, 567, 4, 193], [196, 86, 227, 588, 167, 28, 167], [110, 42, 1, 28, 196, 4, 138, 10, 4, 831, 54, 1, 482, 208, 96], [178, 574, 211, 602, 10, 289, 354, 54, 28, 89, 28, 289], [417, 567, 193, 394, 14, 724, 417, 115], [114, 757, 787, 360, 162, 14, 99], [116, 112, 16, 4, 52, 14, 379, 19, 176, 440], [349, 76, 49, 259, 199, 14, 23, 310, 115, 188, 28, 671], [10, 354, 30, 459, 243, 125, 418, 10, 100, 4, 1, 10, 243, 4], [548, 884, 225, 44, 139, 63, 52, 207, 19, 1, 19, 120, 283, 488, 183], [45, 84, 16, 379, 47, 160, 8, 223, 50, 15, 539, 732, 23, 74], [4, 242, 252, 410, 76, 432, 235, 11, 108, 242, 14, 188], [416, 53, 8], [194, 162, 20, 72], [447, 532, 396, 218, 40, 425], [32, 364, 210, 933, 464, 38, 154, 834, 869, 826, 293, 48], [40, 384, 66, 183, 452], [62, 529], [181, 260, 82, 47, 280, 388], [45, 30, 148, 169, 33, 235, 614, 357], [14, 1, 906, 19, 207, 84, 183, 184, 24, 114, 22, 907, 407, 908, 115, 909], [87, 333, 697, 3, 33, 832, 213, 3, 273, 563], [177], [62, 62, 62, 149, 471, 534, 62], [474, 791, 188, 791], [66, 33, 481, 294], [69, 458], [17, 24, 137, 150, 294, 263, 156, 9, 253, 127], [15, 153, 110, 7, 27, 68], [149, 22, 380, 35, 8], [37, 510, 417, 3, 569, 255, 211, 418, 570, 941, 10, 11, 118, 570, 942, 571, 14, 943, 6, 944, 945, 74], [96, 2, 7, 438, 1, 34, 7, 96], [228, 41, 605, 150], [13, 126, 129, 86, 307, 13, 184, 261, 33, 46, 257, 64, 222, 17, 83, 12, 253], [33, 9, 294, 25, 61, 39, 130], [86, 602, 152, 602, 104, 8, 223, 11, 313, 74], [536, 152, 46, 60, 43], [54, 111, 61, 40, 147], [349, 76, 74, 252, 300, 14, 300], [43, 483, 39, 47], [395, 26, 5, 26, 26, 354, 228], [87, 20, 162, 354, 18, 95], [181, 605], [116, 1, 249, 155, 49, 254, 117, 317, 414, 318, 319, 233], [10, 125, 138, 4, 789, 72, 11, 478, 11, 89, 621], [442, 51, 240, 341, 273, 890, 85, 4, 242, 259, 252, 165, 14, 274, 343], [813, 579], [], [116, 400, 266, 60, 74], [18], [12, 539, 54], [277, 487, 42, 10, 379, 334, 23, 318, 319, 759, 115], [24, 7, 96], [170, 2, 64, 30, 17, 24, 29, 230, 504, 47, 230, 231], [429, 664], [128, 748, 128, 86, 114, 173, 18, 392, 55, 128, 20, 168, 55, 20, 168], [214, 340, 146, 487, 103, 214, 261, 110, 71, 146, 437], [34], [7, 212, 467, 7, 24], [94, 42, 3], [17, 421, 454, 655, 637, 5, 3, 50, 193, 83], [32, 684], [43, 62, 356], [184, 380, 713, 219], [525, 62, 810, 27, 71], [410], [493, 523, 340, 77, 261, 400, 196, 313, 12, 312, 17, 198, 78], [42, 150, 78, 150, 375], [182, 321, 90, 154, 321, 287, 123, 327, 123, 785, 589], [12, 8, 711, 782, 729, 3, 6, 9, 124, 3], [56, 257], [80], [395, 479, 146, 25, 149], [584], [32, 581, 221, 24, 114, 940, 379], [105, 105, 791, 285, 358], [7, 224, 136, 352], [], [32, 119, 243, 93], [70, 1, 21], [25, 854, 244, 13, 2, 481, 294], [223, 71, 193], [527, 155], [108, 113], [195], [69, 33, 1, 21, 70], [2, 157, 2, 388, 302], [17, 43, 384, 23, 238, 12, 9], [1, 304], [811, 76, 946, 654, 11, 153], [170, 261, 38, 30, 847, 151, 111, 521], [94, 25], [69, 62, 144, 41], [73, 24, 228], [788, 184]]\n"
     ]
    }
   ],
   "source": [
    "X = test_data.clean_stemm\n",
    "test_seq = tok.texts_to_sequences(X)\n",
    "print(test_seq)"
   ]
  },
  {
   "cell_type": "code",
   "execution_count": 34,
   "metadata": {},
   "outputs": [
    {
     "output_type": "stream",
     "name": "stdout",
     "text": [
      "[[  0   0   0 ... 918 225  42]\n [  0   0   0 ... 225 239 543]\n [  0   0   0 ...  18  14  74]\n ...\n [  0   0   0 ...  62 144  41]\n [  0   0   0 ...  73  24 228]\n [  0   0   0 ...   0 788 184]]\n"
     ]
    }
   ],
   "source": [
    "test_seq = sequence.pad_sequences(test_seq, maxlen=max_len)\n",
    "print(test_seq)"
   ]
  },
  {
   "cell_type": "code",
   "execution_count": 35,
   "metadata": {},
   "outputs": [
    {
     "output_type": "stream",
     "name": "stdout",
     "text": [
      "[[9.98531878e-01]\n [9.33202922e-01]\n [9.95931804e-01]\n [9.99955773e-01]\n [9.99831319e-01]\n [9.99975681e-01]\n [9.99901175e-01]\n [9.99981999e-01]\n [9.99980807e-01]\n [8.44448805e-04]\n [9.95930433e-01]\n [9.99908864e-01]\n [9.98947084e-01]\n [9.16319788e-01]\n [9.99768257e-01]\n [9.99102473e-01]\n [9.99283791e-01]\n [9.87997174e-01]\n [9.99918342e-01]\n [9.99969721e-01]\n [9.99955952e-01]\n [9.99970436e-01]\n [1.45655274e-02]\n [9.99873877e-01]\n [6.64688414e-05]\n [2.11440623e-02]\n [4.00389035e-05]\n [1.22106867e-05]\n [1.19486451e-03]\n [2.98315287e-03]\n [5.77989376e-05]\n [1.37030229e-05]\n [9.98607635e-01]\n [8.85277987e-04]\n [4.45945263e-02]\n [4.33453170e-06]\n [2.39348412e-03]\n [7.29292631e-04]\n [4.81545925e-04]\n [2.11959668e-05]\n [1.66475773e-04]\n [2.28226185e-04]\n [9.99985695e-01]\n [1.07614389e-04]\n [1.03381753e-04]\n [5.62251080e-05]\n [1.53804303e-05]\n [6.03502393e-01]\n [4.81963158e-04]\n [3.38852406e-04]\n [9.48406637e-01]\n [2.02745199e-04]\n [4.23224901e-06]\n [3.12592056e-05]\n [1.10757351e-03]\n [9.99956608e-01]\n [9.99599040e-01]\n [9.99978065e-01]\n [6.89902902e-03]\n [3.96072865e-03]\n [9.55711365e-01]\n [8.59975815e-04]\n [3.82927060e-03]\n [9.99657035e-01]\n [1.21175406e-04]\n [3.10213136e-06]\n [1.70910358e-03]\n [1.01135913e-06]\n [1.03542043e-05]\n [1.56834722e-03]\n [9.73816568e-05]\n [8.19891691e-04]\n [2.05576420e-04]\n [2.77161598e-04]\n [1.80423260e-04]\n [3.62762809e-03]\n [4.28887106e-05]\n [1.50303245e-02]\n [4.19498465e-05]\n [3.92496586e-04]\n [1.28090382e-04]\n [2.34633982e-02]\n [8.03574920e-03]\n [1.88454986e-03]\n [1.12997885e-04]\n [1.78155303e-03]\n [3.23086977e-04]\n [5.52963320e-05]\n [3.26818228e-03]\n [3.96072865e-03]\n [2.94846296e-03]\n [3.56739759e-03]\n [8.09639692e-04]\n [5.42193651e-04]\n [2.24002689e-01]\n [3.10564339e-02]\n [1.41689181e-03]\n [2.38358974e-04]\n [2.45702267e-03]\n [4.61339951e-04]\n [1.28657818e-02]\n [9.28058743e-01]\n [4.04288148e-05]\n [2.28136778e-04]\n [1.76793146e-05]\n [3.22282314e-04]\n [6.25163317e-04]]\n"
     ]
    }
   ],
   "source": [
    "pred = model.predict(test_seq)\n",
    "print(pred)"
   ]
  },
  {
   "cell_type": "code",
   "execution_count": 36,
   "metadata": {},
   "outputs": [
    {
     "output_type": "stream",
     "name": "stdout",
     "text": [
      "[[1]\n [1]\n [1]\n [1]\n [1]\n [1]\n [1]\n [1]\n [1]\n [0]\n [1]\n [1]\n [1]\n [1]\n [1]\n [1]\n [1]\n [1]\n [1]\n [1]\n [1]\n [1]\n [0]\n [1]\n [0]\n [0]\n [0]\n [0]\n [0]\n [0]\n [0]\n [0]\n [1]\n [0]\n [0]\n [0]\n [0]\n [0]\n [0]\n [0]\n [0]\n [0]\n [1]\n [0]\n [0]\n [0]\n [0]\n [1]\n [0]\n [0]\n [1]\n [0]\n [0]\n [0]\n [0]\n [1]\n [1]\n [1]\n [0]\n [0]\n [1]\n [0]\n [0]\n [1]\n [0]\n [0]\n [0]\n [0]\n [0]\n [0]\n [0]\n [0]\n [0]\n [0]\n [0]\n [0]\n [0]\n [0]\n [0]\n [0]\n [0]\n [0]\n [0]\n [0]\n [0]\n [0]\n [0]\n [0]\n [0]\n [0]\n [0]\n [0]\n [0]\n [0]\n [0]\n [0]\n [0]\n [0]\n [0]\n [0]\n [0]\n [1]\n [0]\n [0]\n [0]\n [0]\n [0]]\n"
     ]
    }
   ],
   "source": [
    "y_preds = (model.predict(test_seq) > 0.5).astype(\"int32\")\n",
    "print(y_preds)"
   ]
  },
  {
   "cell_type": "code",
   "execution_count": 125,
   "metadata": {},
   "outputs": [
    {
     "output_type": "stream",
     "name": "stdout",
     "text": [
      "78\n29\n"
     ]
    }
   ],
   "source": [
    "print(len(y_preds[y_preds==0]))\n",
    "print(len(y_preds[y_preds==1]))"
   ]
  },
  {
   "cell_type": "code",
   "execution_count": 126,
   "metadata": {},
   "outputs": [
    {
     "output_type": "stream",
     "name": "stdout",
     "text": [
      "107\n"
     ]
    }
   ],
   "source": [
    "print(len(y_preds))"
   ]
  },
  {
   "cell_type": "code",
   "execution_count": 127,
   "metadata": {},
   "outputs": [
    {
     "output_type": "stream",
     "name": "stdout",
     "text": [
      "107\n"
     ]
    }
   ],
   "source": [
    "print(len(test_data))"
   ]
  },
  {
   "cell_type": "code",
   "execution_count": 38,
   "metadata": {},
   "outputs": [],
   "source": [
    "sub = pd.DataFrame(y_preds,columns=['prediction'])\n",
    "sub.to_csv('이보림_Adv_solution.csv')"
   ]
  },
  {
   "cell_type": "code",
   "execution_count": 39,
   "metadata": {},
   "outputs": [
    {
     "output_type": "execute_result",
     "data": {
      "text/plain": [
       "     prediction\n",
       "0             1\n",
       "1             1\n",
       "2             1\n",
       "3             1\n",
       "4             1\n",
       "..          ...\n",
       "102           0\n",
       "103           0\n",
       "104           0\n",
       "105           0\n",
       "106           0\n",
       "\n",
       "[107 rows x 1 columns]"
      ],
      "text/html": "<div>\n<style scoped>\n    .dataframe tbody tr th:only-of-type {\n        vertical-align: middle;\n    }\n\n    .dataframe tbody tr th {\n        vertical-align: top;\n    }\n\n    .dataframe thead th {\n        text-align: right;\n    }\n</style>\n<table border=\"1\" class=\"dataframe\">\n  <thead>\n    <tr style=\"text-align: right;\">\n      <th></th>\n      <th>prediction</th>\n    </tr>\n  </thead>\n  <tbody>\n    <tr>\n      <th>0</th>\n      <td>1</td>\n    </tr>\n    <tr>\n      <th>1</th>\n      <td>1</td>\n    </tr>\n    <tr>\n      <th>2</th>\n      <td>1</td>\n    </tr>\n    <tr>\n      <th>3</th>\n      <td>1</td>\n    </tr>\n    <tr>\n      <th>4</th>\n      <td>1</td>\n    </tr>\n    <tr>\n      <th>...</th>\n      <td>...</td>\n    </tr>\n    <tr>\n      <th>102</th>\n      <td>0</td>\n    </tr>\n    <tr>\n      <th>103</th>\n      <td>0</td>\n    </tr>\n    <tr>\n      <th>104</th>\n      <td>0</td>\n    </tr>\n    <tr>\n      <th>105</th>\n      <td>0</td>\n    </tr>\n    <tr>\n      <th>106</th>\n      <td>0</td>\n    </tr>\n  </tbody>\n</table>\n<p>107 rows × 1 columns</p>\n</div>"
     },
     "metadata": {},
     "execution_count": 39
    }
   ],
   "source": [
    "sub"
   ]
  }
 ],
 "metadata": {
  "kernelspec": {
   "name": "python385jvsc74a57bd015e0aa9758cfc00bb5f1da0ee5739dfd32a545096ca837ab539cf3ef6a698dc4",
   "display_name": "Python 3.8.5 64-bit ('base': conda)"
  },
  "language_info": {
   "codemirror_mode": {
    "name": "ipython",
    "version": 3
   },
   "file_extension": ".py",
   "mimetype": "text/x-python",
   "name": "python",
   "nbconvert_exporter": "python",
   "pygments_lexer": "ipython3",
   "version": "3.8.5"
  },
  "metadata": {
   "interpreter": {
    "hash": "00d4087bf40f4bfd1b5fe0a4ca3d094ae2c02e5f239479b5227052e908039f2c"
   }
  }
 },
 "nbformat": 4,
 "nbformat_minor": 4
}